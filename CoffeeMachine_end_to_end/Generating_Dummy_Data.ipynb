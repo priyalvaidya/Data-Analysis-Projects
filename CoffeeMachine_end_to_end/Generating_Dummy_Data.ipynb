{
 "cells": [
  {
   "cell_type": "code",
   "execution_count": 31,
   "id": "793c0c8f",
   "metadata": {},
   "outputs": [],
   "source": [
    "from faker import Faker\n",
    "import pandas as pd\n",
    "import numpy as np\n",
    "import random "
   ]
  },
  {
   "cell_type": "code",
   "execution_count": 32,
   "id": "803140d5",
   "metadata": {},
   "outputs": [],
   "source": [
    "fake = Faker()"
   ]
  },
  {
   "cell_type": "code",
   "execution_count": 33,
   "id": "c2b04b1b",
   "metadata": {},
   "outputs": [],
   "source": [
    "order_date = []\n",
    "customer_name = []\n",
    "drink_choice = []\n",
    "amount = []\n"
   ]
  },
  {
   "cell_type": "code",
   "execution_count": 34,
   "id": "b9edb0b2",
   "metadata": {},
   "outputs": [],
   "source": [
    "names = []\n",
    "for x in range(0, 50):\n",
    "    names.append(fake.name())"
   ]
  },
  {
   "cell_type": "code",
   "execution_count": 35,
   "id": "90415e63",
   "metadata": {},
   "outputs": [],
   "source": [
    "for _ in range(500):\n",
    "    customer_name.append(random.choice(names))"
   ]
  },
  {
   "cell_type": "code",
   "execution_count": 36,
   "id": "5e2c3650",
   "metadata": {},
   "outputs": [],
   "source": [
    "for _ in range(500):\n",
    "    order_date.append(fake.date_between_dates('-2y', 'now'))"
   ]
  },
  {
   "cell_type": "code",
   "execution_count": 37,
   "id": "1bb0d89e",
   "metadata": {},
   "outputs": [],
   "source": [
    "drink = ['Espresso', 'Latte', 'Cappuccino']\n",
    "for _ in range(500):\n",
    "    drink_choice.append(random.choice(drink))"
   ]
  },
  {
   "cell_type": "code",
   "execution_count": 38,
   "id": "11f9145b",
   "metadata": {},
   "outputs": [],
   "source": [
    "drink_prices = [1.5, 2.5, 3.0]\n",
    "for _ in range(1000):\n",
    "    amount.append(random.choice(drink_prices))\n"
   ]
  },
  {
   "cell_type": "code",
   "execution_count": 39,
   "id": "36b73724",
   "metadata": {},
   "outputs": [],
   "source": [
    "df = pd.DataFrame(zip(order_date, customer_name, drink_choice, amount), columns=['order_date', 'customer_name', 'drink_choice', 'amount'])"
   ]
  },
  {
   "cell_type": "code",
   "execution_count": 40,
   "id": "0e06e1a9",
   "metadata": {},
   "outputs": [
    {
     "data": {
      "text/html": [
       "<div>\n",
       "<style scoped>\n",
       "    .dataframe tbody tr th:only-of-type {\n",
       "        vertical-align: middle;\n",
       "    }\n",
       "\n",
       "    .dataframe tbody tr th {\n",
       "        vertical-align: top;\n",
       "    }\n",
       "\n",
       "    .dataframe thead th {\n",
       "        text-align: right;\n",
       "    }\n",
       "</style>\n",
       "<table border=\"1\" class=\"dataframe\">\n",
       "  <thead>\n",
       "    <tr style=\"text-align: right;\">\n",
       "      <th></th>\n",
       "      <th>order_date</th>\n",
       "      <th>customer_name</th>\n",
       "      <th>drink_choice</th>\n",
       "      <th>amount</th>\n",
       "    </tr>\n",
       "  </thead>\n",
       "  <tbody>\n",
       "    <tr>\n",
       "      <th>0</th>\n",
       "      <td>2023-05-21</td>\n",
       "      <td>Kelly Jenkins</td>\n",
       "      <td>Latte</td>\n",
       "      <td>3.0</td>\n",
       "    </tr>\n",
       "    <tr>\n",
       "      <th>1</th>\n",
       "      <td>2022-12-14</td>\n",
       "      <td>Robert Booth</td>\n",
       "      <td>Espresso</td>\n",
       "      <td>1.5</td>\n",
       "    </tr>\n",
       "    <tr>\n",
       "      <th>2</th>\n",
       "      <td>2022-09-09</td>\n",
       "      <td>Paul Farmer</td>\n",
       "      <td>Latte</td>\n",
       "      <td>3.0</td>\n",
       "    </tr>\n",
       "    <tr>\n",
       "      <th>3</th>\n",
       "      <td>2022-12-27</td>\n",
       "      <td>Christopher Reynolds II</td>\n",
       "      <td>Cappuccino</td>\n",
       "      <td>3.0</td>\n",
       "    </tr>\n",
       "    <tr>\n",
       "      <th>4</th>\n",
       "      <td>2022-04-13</td>\n",
       "      <td>Douglas Garner</td>\n",
       "      <td>Latte</td>\n",
       "      <td>1.5</td>\n",
       "    </tr>\n",
       "    <tr>\n",
       "      <th>5</th>\n",
       "      <td>2022-08-26</td>\n",
       "      <td>Ray Boyd</td>\n",
       "      <td>Latte</td>\n",
       "      <td>3.0</td>\n",
       "    </tr>\n",
       "    <tr>\n",
       "      <th>6</th>\n",
       "      <td>2022-11-09</td>\n",
       "      <td>Rodney Moody</td>\n",
       "      <td>Latte</td>\n",
       "      <td>2.5</td>\n",
       "    </tr>\n",
       "    <tr>\n",
       "      <th>7</th>\n",
       "      <td>2022-06-11</td>\n",
       "      <td>Melanie Carpenter</td>\n",
       "      <td>Espresso</td>\n",
       "      <td>2.5</td>\n",
       "    </tr>\n",
       "    <tr>\n",
       "      <th>8</th>\n",
       "      <td>2024-01-06</td>\n",
       "      <td>Courtney Richmond</td>\n",
       "      <td>Espresso</td>\n",
       "      <td>3.0</td>\n",
       "    </tr>\n",
       "    <tr>\n",
       "      <th>9</th>\n",
       "      <td>2022-04-19</td>\n",
       "      <td>Jane Reed</td>\n",
       "      <td>Espresso</td>\n",
       "      <td>2.5</td>\n",
       "    </tr>\n",
       "  </tbody>\n",
       "</table>\n",
       "</div>"
      ],
      "text/plain": [
       "   order_date            customer_name drink_choice  amount\n",
       "0  2023-05-21            Kelly Jenkins        Latte     3.0\n",
       "1  2022-12-14             Robert Booth     Espresso     1.5\n",
       "2  2022-09-09              Paul Farmer        Latte     3.0\n",
       "3  2022-12-27  Christopher Reynolds II   Cappuccino     3.0\n",
       "4  2022-04-13           Douglas Garner        Latte     1.5\n",
       "5  2022-08-26                 Ray Boyd        Latte     3.0\n",
       "6  2022-11-09             Rodney Moody        Latte     2.5\n",
       "7  2022-06-11        Melanie Carpenter     Espresso     2.5\n",
       "8  2024-01-06        Courtney Richmond     Espresso     3.0\n",
       "9  2022-04-19                Jane Reed     Espresso     2.5"
      ]
     },
     "execution_count": 40,
     "metadata": {},
     "output_type": "execute_result"
    }
   ],
   "source": [
    "df.head(10)"
   ]
  },
  {
   "cell_type": "code",
   "execution_count": null,
   "id": "d14b6a34",
   "metadata": {},
   "outputs": [],
   "source": []
  }
 ],
 "metadata": {
  "kernelspec": {
   "display_name": "Python 3 (ipykernel)",
   "language": "python",
   "name": "python3"
  },
  "language_info": {
   "codemirror_mode": {
    "name": "ipython",
    "version": 3
   },
   "file_extension": ".py",
   "mimetype": "text/x-python",
   "name": "python",
   "nbconvert_exporter": "python",
   "pygments_lexer": "ipython3",
   "version": "3.10.11"
  }
 },
 "nbformat": 4,
 "nbformat_minor": 5
}
